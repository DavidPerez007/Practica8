{
  "cells": [
    {
      "cell_type": "code",
      "execution_count": null,
      "id": "BIlO7QbbD4-s",
      "metadata": {
        "id": "BIlO7QbbD4-s"
      },
      "outputs": [],
      "source": [
        "import numpy as np\n",
        "import pandas as pd\n",
        "\n",
        "from sklearn.tree import DecisionTreeClassifier\n",
        "from sklearn.model_selection import train_test_split\n",
        "from sklearn.metrics import accuracy_score\n",
        "\n",
        "import pickle"
      ]
    },
    {
      "cell_type": "markdown",
      "id": "848153e3",
      "metadata": {
        "id": "848153e3"
      },
      "source": [
        "# Laboratorio 8: Random Forest y despliegues\n",
        "\n",
        "**Duración:** 2 horas  \n",
        "**Formato:** Implementación, despliegue y competencia  \n",
        "\n",
        "---\n",
        "\n",
        "## Portada del equipo\n",
        "\n",
        "**Integrantes:**\n",
        "- Nombre 1 (Usuario GitHub)\n",
        "- Nombre 2 (Usuario GitHub)\n",
        "- Nombre 3 (Usuario GitHub)\n",
        "\n",
        "**Repositorio del equipo:**  \n",
        "<https://github.com/usuario/equipoX>\n",
        "\n",
        "**Fecha de entrega:**  \n",
        "__/__/____"
      ]
    },
    {
      "cell_type": "markdown",
      "id": "067997e4",
      "metadata": {
        "id": "067997e4"
      },
      "source": [
        "## Elemento 1 - Implementación del Random Forest"
      ]
    },
    {
      "cell_type": "code",
      "execution_count": null,
      "id": "s2mUL5kmD80s",
      "metadata": {
        "id": "s2mUL5kmD80s"
      },
      "outputs": [],
      "source": [
        "df=pd.read_csv('iris_train.csv')\n",
        "X,y=df.iloc[:,:-1].values,df.iloc[:,-1].values"
      ]
    },
    {
      "cell_type": "code",
      "execution_count": null,
      "id": "d12dcd31",
      "metadata": {
        "id": "d12dcd31"
      },
      "outputs": [],
      "source": [
        "class RandomForest:\n",
        "  def __init__(self, n_estimators=100, max_depth=None, max_features='sqrt', random_state=17):\n",
        "    self.n_estimators = n_estimators\n",
        "    self.max_depth = max_depth\n",
        "    self.max_features = max_features\n",
        "    self.random_state = random_state\n",
        "    self.trees = []\n",
        "\n",
        "  def bootstrap(self, X, y):\n",
        "    n_samples = len(X)\n",
        "    idxs = np.random.choice(n_samples, n_samples, replace=True)\n",
        "    return X[idxs], y[idxs]\n",
        "\n",
        "  def fit(self, X, y):\n",
        "    self.trees = []\n",
        "    n_features = X.shape[1]\n",
        "\n",
        "    if self.max_features == 'sqrt':\n",
        "      max_feats = max(1, int(np.sqrt(n_features)))\n",
        "    elif self.max_features == 'log2':\n",
        "      max_feats = max(1, int(np.log2(n_features)))\n",
        "    else:\n",
        "      max_feats = n_features\n",
        "\n",
        "    # Handle max_depth based on string inputs 'sqrt' or 'log2'\n",
        "    if self.max_depth == 'sqrt':\n",
        "        depth = max(1, int(np.sqrt(n_features)))\n",
        "    elif self.max_depth == 'log2':\n",
        "        depth = max(1, int(np.log2(n_features)))\n",
        "    else:\n",
        "        depth = self.max_depth # Use the provided integer or None\n",
        "\n",
        "\n",
        "    for i in range(self.n_estimators):\n",
        "      tree = DecisionTreeClassifier(max_depth=depth, max_features=self.max_features, random_state=self.random_state + i)\n",
        "\n",
        "      X_sample, y_sample = self.bootstrap(X, y)\n",
        "      tree.fit(X_sample, y_sample)\n",
        "      self.trees.append(tree)\n",
        "\n",
        "\n",
        "  def predict(self, X):\n",
        "    tree_preds = np.array([tree.predict(X) for tree in self.trees])\n",
        "    # Use axis=0 for column-wise operation\n",
        "    return np.array([np.argmax(np.bincount(tree_preds[:, i])) for i in range(tree_preds.shape[1])])\n",
        "\n",
        "\n",
        "  def fit_predict(self, X, y):\n",
        "    self.fit(X, y)\n",
        "    return self.predict(X)\n",
        "\n",
        "  def get_params(self, deep=True):\n",
        "    return {'n_estimators': self.n_estimators, 'max_depth': self.max_depth, 'max_features': self.max_features, 'random_state': self.random_state}\n",
        "\n",
        "  def set_params(self, **params):\n",
        "    for key, value in params.items():\n",
        "      setattr(self, key, value)\n",
        "    return self"
      ]
    },
    {
      "cell_type": "code",
      "execution_count": null,
      "id": "m6_escf_El9s",
      "metadata": {
        "colab": {
          "base_uri": "https://localhost:8080/",
          "height": 300
        },
        "id": "m6_escf_El9s",
        "outputId": "b21537dd-45dc-4923-8c79-497036c2ee47"
      },
      "outputs": [],
      "source": [
        "df.describe()"
      ]
    },
    {
      "cell_type": "code",
      "execution_count": null,
      "id": "ktQDlu3IGLmC",
      "metadata": {
        "colab": {
          "base_uri": "https://localhost:8080/",
          "height": 53
        },
        "id": "ktQDlu3IGLmC",
        "outputId": "8c032901-cb2c-46ff-a042-f7943059bc9a"
      },
      "outputs": [],
      "source": [
        "df[(df[\"sepal length (cm)\"]>10) | (df[\"sepal length (cm)\"]<0)]"
      ]
    },
    {
      "cell_type": "code",
      "execution_count": null,
      "id": "dqG2H5NAE4Sk",
      "metadata": {
        "id": "dqG2H5NAE4Sk"
      },
      "outputs": [],
      "source": [
        "# Importar knn\n",
        "from sklearn.neighbors import KNeighborsClassifier\n",
        "from sklearn.metrics import accuracy_score\n",
        "from sklearn.impute import KNNImputer\n",
        "\n",
        "# Rellenar datos atípicos usando el promedio de su clase\n",
        "df=pd.read_csv('iris_train.csv')\n",
        "df[(df > 10) | (df < 0)] = None\n",
        "\n",
        "# Rellenar nulos con KNN por clase\n",
        "df_filled = df.copy()\n",
        "\n",
        "for clase in df.iloc[:, -1].unique():\n",
        "    mascara = df.iloc[:, -1] == clase\n",
        "    imputer = KNNImputer(n_neighbors=5)\n",
        "    df_filled.loc[mascara, df.columns[:-1]] = imputer.fit_transform(df.loc[mascara, df.columns[:-1]])\n"
      ]
    },
    {
      "cell_type": "code",
      "execution_count": null,
      "id": "IQDOfdneG3DM",
      "metadata": {
        "colab": {
          "base_uri": "https://localhost:8080/",
          "height": 300
        },
        "id": "IQDOfdneG3DM",
        "outputId": "c2fa5fa4-caff-44e9-c366-ee1223592178"
      },
      "outputs": [],
      "source": [
        "df_filled.describe()"
      ]
    },
    {
      "cell_type": "code",
      "execution_count": null,
      "id": "x9Eb0d31EN8D",
      "metadata": {
        "colab": {
          "base_uri": "https://localhost:8080/"
        },
        "id": "x9Eb0d31EN8D",
        "outputId": "e61b4f5b-5aa3-41ff-fdbc-067e6e01c6a8"
      },
      "outputs": [],
      "source": [
        "X,y=df_filled.iloc[:,:-1].values,df_filled.iloc[:,-1].values\n",
        "\n",
        "rf=RandomForest(n_estimators=100, max_depth='sqrt', random_state=17)\n",
        "rf.fit(X,y)\n",
        "\n",
        "y_hat=rf.predict(X)\n",
        "accuracy_score(y,y_hat)"
      ]
    },
    {
      "cell_type": "code",
      "execution_count": null,
      "id": "2SNDVoGzISAG",
      "metadata": {
        "id": "2SNDVoGzISAG"
      },
      "outputs": [],
      "source": [
        "with open(\"../models/modelo.pkl\", \"wb\") as f:\n",
        "    pickle.dump(rf, f)"
      ]
    },
    {
      "cell_type": "markdown",
      "id": "c5c9fc70",
      "metadata": {
        "id": "c5c9fc70"
      },
      "source": [
        "### Elemento 1 - Preguntas teóricas"
      ]
    },
    {
      "cell_type": "markdown",
      "id": "0769e4e8",
      "metadata": {
        "id": "0769e4e8"
      },
      "source": []
    },
    {
      "cell_type": "markdown",
      "id": "1017feed",
      "metadata": {
        "id": "1017feed"
      },
      "source": [
        "## Elemento 2 - Comparativa con scikit-learn"
      ]
    },
    {
      "cell_type": "code",
      "execution_count": null,
      "id": "09eb4078",
      "metadata": {
        "colab": {
          "base_uri": "https://localhost:8080/"
        },
        "id": "09eb4078",
        "outputId": "d2ee7183-ecc7-4322-ed14-2ec082655c3c"
      },
      "outputs": [],
      "source": [
        "# comparar con sklearn\n",
        "from sklearn.ensemble import RandomForestClassifier\n",
        "rf_sklearn=RandomForestClassifier(n_estimators=100, max_depth=None, random_state=17)\n",
        "rf_sklearn.fit(X,y)\n",
        "\n",
        "y_hat=rf_sklearn.predict(X)\n",
        "accuracy_score(y,y_hat)"
      ]
    },
    {
      "cell_type": "code",
      "execution_count": null,
      "id": "ff1cd961",
      "metadata": {
        "colab": {
          "base_uri": "https://localhost:8080/"
        },
        "id": "ff1cd961",
        "outputId": "a5af9c00-9fe2-4eb6-cd0f-898e7e476613"
      },
      "outputs": [],
      "source": [
        "from sklearn.model_selection import GridSearchCV\n",
        "\n",
        "# Define the parameter grid\n",
        "param_grid = {\n",
        "    'n_estimators': [50, 100, 150, 200,400],  # Number of trees in the forest\n",
        "    'max_depth': [None, 5, 10, 15]  # Maximum depth of the trees\n",
        "}\n",
        "\n",
        "# Create a GridSearchCV object\n",
        "# We use the custom RandomForest class\n",
        "grid_search = GridSearchCV(RandomForest(random_state=17), param_grid, cv=5, scoring='accuracy')\n",
        "\n",
        "# Fit the grid search to the data\n",
        "grid_search.fit(X, y)\n",
        "\n",
        "# Print the best parameters and the best score\n",
        "print(\"Best parameters: \", grid_search.best_params_)\n",
        "print(\"Best accuracy: \", grid_search.best_score_)"
      ]
    },
    {
      "cell_type": "code",
      "execution_count": null,
      "id": "7967ee6b",
      "metadata": {
        "id": "7967ee6b"
      },
      "outputs": [],
      "source": [
        "from sklearn.metrics import confusion_matrix, classification_report\n",
        "\n",
        "# Make predictions using the scikit-learn RandomForestClassifier\n",
        "y_pred_sklearn = rf_sklearn.predict(X)\n",
        "\n",
        "# Calculate and print the confusion matrix for the scikit-learn model\n",
        "conf_matrix_sklearn = confusion_matrix(y, y_pred_sklearn)\n",
        "print(\"Matriz de Confusión (scikit-learn):\")\n",
        "print(conf_matrix_sklearn)\n",
        "\n",
        "# Calculate and print the classification report for the scikit-learn model\n",
        "class_report_sklearn = classification_report(y, y_pred_sklearn)\n",
        "print(\"\\nReporte de Clasificación (scikit-learn):\")\n",
        "print(class_report_sklearn)"
      ]
    },
    {
      "cell_type": "code",
      "execution_count": null,
      "id": "7a0045cc",
      "metadata": {
        "colab": {
          "base_uri": "https://localhost:8080/"
        },
        "id": "7a0045cc",
        "outputId": "229231d2-5d95-4102-91d1-5a58748debfa"
      },
      "outputs": [],
      "source": [
        "from sklearn.metrics import confusion_matrix, classification_report\n",
        "from sklearn.model_selection import cross_val_score\n",
        "\n",
        "# Make predictions on the training data (you might want to use a separate test set)\n",
        "y_pred = rf.predict(X)\n",
        "\n",
        "# Calculate and print the confusion matrix\n",
        "conf_matrix = confusion_matrix(y, y_pred)\n",
        "print(\"Matriz de Confusión:\")\n",
        "print(conf_matrix)\n",
        "\n",
        "# Calculate and print the classification report (includes precision, recall, f1-score)\n",
        "class_report = classification_report(y, y_pred)\n",
        "print(\"\\nReporte de Clasificación:\")\n",
        "print(class_report)"
      ]
    },
    {
      "cell_type": "markdown",
      "id": "20c15c0a",
      "metadata": {
        "id": "20c15c0a"
      },
      "source": [
        "### Elemento 2 - Preguntas teóricas"
      ]
    },
    {
      "cell_type": "markdown",
      "id": "3d82f1a7",
      "metadata": {
        "id": "3d82f1a7"
      },
      "source": []
    },
    {
      "cell_type": "markdown",
      "id": "bd8832f4",
      "metadata": {
        "id": "bd8832f4"
      },
      "source": [
        "## Elemento 3 - Creación y despliegue de la API"
      ]
    },
    {
      "cell_type": "code",
      "execution_count": null,
      "id": "ef43827a",
      "metadata": {
        "id": "ef43827a"
      },
      "outputs": [],
      "source": []
    },
    {
      "cell_type": "markdown",
      "id": "04343311",
      "metadata": {
        "id": "04343311"
      },
      "source": [
        "### Elemento 3 - Preguntas teóricas"
      ]
    },
    {
      "cell_type": "markdown",
      "id": "fa7eb7a4",
      "metadata": {
        "id": "fa7eb7a4"
      },
      "source": []
    }
  ],
  "metadata": {
    "colab": {
      "provenance": []
    },
    "kernelspec": {
      "display_name": "Python 3",
      "language": "python",
      "name": "python3"
    },
    "language_info": {
      "codemirror_mode": {
        "name": "ipython",
        "version": 3
      },
      "file_extension": ".py",
      "mimetype": "text/x-python",
      "name": "python",
      "nbconvert_exporter": "python",
      "pygments_lexer": "ipython3",
      "version": "3.11.2"
    }
  },
  "nbformat": 4,
  "nbformat_minor": 5
}
